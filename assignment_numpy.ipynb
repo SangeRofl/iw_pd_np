{
 "cells": [
  {
   "cell_type": "markdown",
   "id": "d3df79dd",
   "metadata": {},
   "source": [
    "## Упражнения по библиотеке Numpy"
   ]
  },
  {
   "cell_type": "code",
   "execution_count": 15,
   "id": "76b9c43b",
   "metadata": {},
   "outputs": [],
   "source": [
    "import numpy as np"
   ]
  },
  {
   "cell_type": "markdown",
   "id": "03727b7c",
   "metadata": {},
   "source": [
    "**1.** Дан случайный массив, поменять знак у элементов, значения которых между 3 и 8"
   ]
  },
  {
   "cell_type": "code",
   "execution_count": 16,
   "id": "b89a7523",
   "metadata": {},
   "outputs": [
    {
     "data": {
      "text/plain": [
       "array([ 5, 10, 11,  4, 12, 14, 13,  8,  7,  3,  6, 12,  9, 10,  7])"
      ]
     },
     "execution_count": 16,
     "metadata": {},
     "output_type": "execute_result"
    }
   ],
   "source": [
    "a = np.random.randint(1, 15, 15)\n",
    "a"
   ]
  },
  {
   "cell_type": "code",
   "execution_count": 17,
   "id": "0d0a1356-2c4c-4e99-837d-cdd7f5134289",
   "metadata": {},
   "outputs": [
    {
     "data": {
      "text/plain": [
       "array([ 0, 10, 11,  0, 12, 14, 13,  8,  0,  3,  0, 12,  9, 10,  0])"
      ]
     },
     "execution_count": 17,
     "metadata": {},
     "output_type": "execute_result"
    }
   ],
   "source": [
    "a[(a>3) & (a<8)] = 0\n",
    "a"
   ]
  },
  {
   "cell_type": "markdown",
   "id": "5fa4abda",
   "metadata": {},
   "source": [
    "**2.** Заменить максимальный элемент случайного массива на 0"
   ]
  },
  {
   "cell_type": "code",
   "execution_count": 18,
   "id": "f2788a6e",
   "metadata": {},
   "outputs": [
    {
     "data": {
      "text/plain": [
       "array([14,  4,  6,  8, 11,  6, 11, 10, 13,  1,  6,  8,  8,  4,  2])"
      ]
     },
     "execution_count": 18,
     "metadata": {},
     "output_type": "execute_result"
    }
   ],
   "source": [
    "a = np.random.randint(1, 15, 15)\n",
    "a"
   ]
  },
  {
   "cell_type": "code",
   "execution_count": 19,
   "id": "0eba22d1-a672-4c3f-a020-882758fe34be",
   "metadata": {},
   "outputs": [
    {
     "data": {
      "text/plain": [
       "array([ 0,  4,  6,  8, 11,  6, 11, 10, 13,  1,  6,  8,  8,  4,  2])"
      ]
     },
     "execution_count": 19,
     "metadata": {},
     "output_type": "execute_result"
    }
   ],
   "source": [
    "a[a.argmax()] = 0\n",
    "a"
   ]
  },
  {
   "cell_type": "markdown",
   "id": "3cac656b",
   "metadata": {},
   "source": [
    "**3.** Построить прямое произведение массивов (все комбинации с каждым элементом). На вход подается двумерный массив"
   ]
  },
  {
   "cell_type": "code",
   "execution_count": 79,
   "id": "3396b764",
   "metadata": {},
   "outputs": [
    {
     "name": "stdout",
     "output_type": "stream",
     "text": [
      "[[1 3 5]\n",
      " [1 3 6]\n",
      " [2 3 5]\n",
      " [2 3 6]\n",
      " [1 4 5]\n",
      " [1 4 6]\n",
      " [2 4 5]\n",
      " [2 4 6]]\n"
     ]
    }
   ],
   "source": [
    "def func1(arr):    \n",
    "    grids = np.meshgrid(*arr)\n",
    "    flattened_grids = [grid.ravel() for grid in grids]\n",
    "    result = np.column_stack(flattened_grids)\n",
    "    return result\n",
    "\n",
    "arr = np.array([[1, 2], [3, 4], [5, 6]])\n",
    "result = func1(array)\n",
    "print(result)"
   ]
  },
  {
   "cell_type": "markdown",
   "id": "674c9354",
   "metadata": {},
   "source": [
    "**4.** Даны 2 массива A (8x3) и B (2x2). Найти строки в A, которые содержат элементы из каждой строки в B, независимо от порядка элементов в B"
   ]
  },
  {
   "cell_type": "code",
   "execution_count": 103,
   "id": "26ad3a73-15ea-48d4-8580-f673bbaa460a",
   "metadata": {},
   "outputs": [],
   "source": [
    "a = np.random.randint(1, 8, (8, 3))\n",
    "b = np.random.randint(1, 8, (2, 2))"
   ]
  },
  {
   "cell_type": "code",
   "execution_count": 104,
   "id": "f7bd1f74-4821-469a-b108-411e0a87752a",
   "metadata": {},
   "outputs": [
    {
     "data": {
      "text/plain": [
       "array([[1, 5, 2],\n",
       "       [4, 2, 1],\n",
       "       [1, 3, 7],\n",
       "       [5, 5, 4],\n",
       "       [1, 2, 4],\n",
       "       [7, 7, 3],\n",
       "       [7, 2, 1],\n",
       "       [3, 6, 6]])"
      ]
     },
     "execution_count": 104,
     "metadata": {},
     "output_type": "execute_result"
    }
   ],
   "source": [
    "a"
   ]
  },
  {
   "cell_type": "code",
   "execution_count": 105,
   "id": "a0cefa05-c97e-4a30-8bda-3b169bc62b06",
   "metadata": {},
   "outputs": [
    {
     "data": {
      "text/plain": [
       "array([[1, 6],\n",
       "       [7, 5]])"
      ]
     },
     "execution_count": 105,
     "metadata": {},
     "output_type": "execute_result"
    }
   ],
   "source": [
    "b"
   ]
  },
  {
   "cell_type": "code",
   "execution_count": 106,
   "id": "7f299489-7bf5-4102-82cf-f805a8f8603f",
   "metadata": {},
   "outputs": [
    {
     "data": {
      "text/plain": [
       "array([[1, 5, 2],\n",
       "       [1, 3, 7],\n",
       "       [7, 2, 1]])"
      ]
     },
     "execution_count": 106,
     "metadata": {},
     "output_type": "execute_result"
    }
   ],
   "source": [
    "def func2(A, B):\n",
    "    return A[np.intersect1d(np.any(np.isin(A, B[0]), axis=1).nonzero(), np.any(np.isin(A, B[1]), axis=1).nonzero())]\n",
    "        \n",
    "\n",
    "func2(a, b)"
   ]
  },
  {
   "cell_type": "markdown",
   "id": "fa46533b",
   "metadata": {},
   "source": [
    "**5.** Дана 10x3 матрица, найти строки из неравных значений (например строка [2,2,3] остается, строка [3,3,3] удаляется)"
   ]
  },
  {
   "cell_type": "code",
   "execution_count": 111,
   "id": "fa545b23",
   "metadata": {},
   "outputs": [
    {
     "data": {
      "text/plain": [
       "array([[1, 3, 2],\n",
       "       [1, 2, 1],\n",
       "       [2, 1, 2],\n",
       "       [3, 3, 1],\n",
       "       [2, 2, 2],\n",
       "       [1, 1, 2],\n",
       "       [1, 1, 1],\n",
       "       [2, 2, 2],\n",
       "       [2, 2, 1],\n",
       "       [2, 3, 2]])"
      ]
     },
     "execution_count": 111,
     "metadata": {},
     "output_type": "execute_result"
    }
   ],
   "source": [
    "a = np.random.randint(1, 4, (10, 3))\n",
    "a"
   ]
  },
  {
   "cell_type": "code",
   "execution_count": 142,
   "id": "6791d92d-2277-4cd0-929c-b9c9ba33d8c2",
   "metadata": {},
   "outputs": [
    {
     "data": {
      "text/plain": [
       "array([[1, 3, 2],\n",
       "       [1, 2, 1],\n",
       "       [2, 1, 2],\n",
       "       [3, 3, 1],\n",
       "       [1, 1, 2],\n",
       "       [2, 2, 1],\n",
       "       [2, 3, 2]])"
      ]
     },
     "execution_count": 142,
     "metadata": {},
     "output_type": "execute_result"
    }
   ],
   "source": [
    "def func3(arr):\n",
    "    a = np.diff(arr, axis=1)\n",
    "    return arr[(a!=0).any(axis=1)]\n",
    "\n",
    "func3(a)"
   ]
  },
  {
   "cell_type": "markdown",
   "id": "28f0d116",
   "metadata": {},
   "source": [
    "**6.** Дан двумерный массив. Удалить те строки, которые повторяются"
   ]
  },
  {
   "cell_type": "code",
   "execution_count": 152,
   "id": "83d2c0b7",
   "metadata": {},
   "outputs": [
    {
     "data": {
      "text/plain": [
       "array([[2, 1, 2],\n",
       "       [1, 2, 3],\n",
       "       [1, 1, 3],\n",
       "       [2, 2, 2],\n",
       "       [2, 2, 3],\n",
       "       [2, 1, 3],\n",
       "       [3, 1, 2],\n",
       "       [1, 1, 1],\n",
       "       [2, 1, 1],\n",
       "       [3, 3, 3],\n",
       "       [3, 3, 3],\n",
       "       [3, 1, 3],\n",
       "       [2, 2, 1],\n",
       "       [1, 2, 2],\n",
       "       [1, 3, 1],\n",
       "       [2, 3, 3],\n",
       "       [3, 3, 2],\n",
       "       [3, 2, 2],\n",
       "       [3, 3, 1],\n",
       "       [2, 3, 3]])"
      ]
     },
     "execution_count": 152,
     "metadata": {},
     "output_type": "execute_result"
    }
   ],
   "source": [
    "a = np.random.randint(1, 4, (20, 3))\n",
    "a"
   ]
  },
  {
   "cell_type": "code",
   "execution_count": 154,
   "id": "c3d03ecf-670f-4ad8-93bc-3f0df52bd7b3",
   "metadata": {},
   "outputs": [
    {
     "data": {
      "text/plain": [
       "array([[1, 1, 1],\n",
       "       [1, 1, 3],\n",
       "       [1, 2, 2],\n",
       "       [1, 2, 3],\n",
       "       [1, 3, 1],\n",
       "       [2, 1, 1],\n",
       "       [2, 1, 2],\n",
       "       [2, 1, 3],\n",
       "       [2, 2, 1],\n",
       "       [2, 2, 2],\n",
       "       [2, 2, 3],\n",
       "       [2, 3, 3],\n",
       "       [3, 1, 2],\n",
       "       [3, 1, 3],\n",
       "       [3, 2, 2],\n",
       "       [3, 3, 1],\n",
       "       [3, 3, 2],\n",
       "       [3, 3, 3]])"
      ]
     },
     "execution_count": 154,
     "metadata": {},
     "output_type": "execute_result"
    }
   ],
   "source": [
    "def func4(arr):\n",
    "    return np.unique(a, axis = 0)\n",
    "\n",
    "func4(a)"
   ]
  },
  {
   "cell_type": "markdown",
   "id": "6daa9e37",
   "metadata": {},
   "source": [
    "______\n",
    "______"
   ]
  },
  {
   "cell_type": "markdown",
   "id": "cfbfcaff",
   "metadata": {},
   "source": [
    "Для каждой из следующих задач (1-5) нужно привести 2 реализации – одна без использования numpy (cчитайте, что там, где на входе или выходе должны быть numpy array, будут просто списки), а вторая полностью векторизованная с использованием numpy (без использования питоновских циклов/map/list comprehension).\n",
    "\n",
    "\n",
    "__Замечание 1.__ Можно считать, что все указанные объекты непустые (к примеру, в __задаче 1__ на диагонали матрицы есть ненулевые элементы).\n",
    "\n",
    "__Замечание 2.__ Для большинства задач решение занимает не больше 1-2 строк."
   ]
  },
  {
   "cell_type": "markdown",
   "id": "673cac7f",
   "metadata": {},
   "source": [
    "___"
   ]
  },
  {
   "cell_type": "markdown",
   "id": "ca6f585e",
   "metadata": {},
   "source": [
    "* __Задача 1__: Подсчитать произведение ненулевых элементов на диагонали прямоугольной матрицы.  \n",
    " Например, для X = np.array([[1, 0, 1], [2, 0, 2], [3, 0, 3], [4, 4, 4]]) ответ 3."
   ]
  },
  {
   "cell_type": "code",
   "execution_count": 175,
   "id": "bf189eec-35a6-49ab-8a29-757ae119176e",
   "metadata": {
    "scrolled": true
   },
   "outputs": [
    {
     "data": {
      "text/plain": [
       "array([[0, 2, 0, 2, 2],\n",
       "       [0, 0, 2, 1, 2],\n",
       "       [0, 2, 1, 1, 0],\n",
       "       [2, 0, 2, 2, 1],\n",
       "       [1, 2, 1, 2, 2],\n",
       "       [0, 1, 0, 1, 1]])"
      ]
     },
     "execution_count": 175,
     "metadata": {},
     "output_type": "execute_result"
    }
   ],
   "source": [
    "a = np.random.randint(0, 3, (6,5))\n",
    "a"
   ]
  },
  {
   "cell_type": "code",
   "execution_count": 176,
   "id": "065862fc",
   "metadata": {},
   "outputs": [
    {
     "data": {
      "text/plain": [
       "4"
      ]
     },
     "execution_count": 176,
     "metadata": {},
     "output_type": "execute_result"
    }
   ],
   "source": [
    "def np_solution(arr):\n",
    "    return np.prod(np.diag(arr)[np.diag(arr).nonzero()])\n",
    "\n",
    "np_solution(a)"
   ]
  },
  {
   "cell_type": "code",
   "execution_count": 177,
   "id": "1031fdf1-ad4c-44b3-88d7-4ae8edb3aad6",
   "metadata": {},
   "outputs": [
    {
     "data": {
      "text/plain": [
       "4"
      ]
     },
     "execution_count": 177,
     "metadata": {},
     "output_type": "execute_result"
    }
   ],
   "source": [
    "def py_solution(lst):\n",
    "    diag_size = min(len(lst), len(lst[0]))\n",
    "    res = 1\n",
    "    for i in range(diag_size):\n",
    "        res *= lst[i][i] if lst[i][i] else 1\n",
    "    return res\n",
    "\n",
    "py_solution([[0, 2, 0, 2, 2],\n",
    "       [0, 0, 2, 1, 2],\n",
    "       [0, 2, 1, 1, 0],\n",
    "       [2, 0, 2, 2, 1],\n",
    "       [1, 2, 1, 2, 2],\n",
    "       [0, 1, 0, 1, 1]])"
   ]
  },
  {
   "cell_type": "markdown",
   "id": "9fc51d41",
   "metadata": {},
   "source": [
    "* __Задача 2__: Даны два вектора x и y. Проверить, задают ли они одно и то же мультимножество.  \n",
    "  Например, для x = np.array([1, 2, 2, 4]), y = np.array([4, 2, 1, 2]) ответ True."
   ]
  },
  {
   "cell_type": "code",
   "execution_count": 190,
   "id": "a809e02f",
   "metadata": {},
   "outputs": [],
   "source": [
    "x = np.array([1,2,2,4])\n",
    "y = np.array([4,2,1,2])"
   ]
  },
  {
   "cell_type": "code",
   "execution_count": 191,
   "id": "897c7ee6-1e30-43ca-a053-77d81a8254c4",
   "metadata": {},
   "outputs": [
    {
     "data": {
      "text/plain": [
       "True"
      ]
     },
     "execution_count": 191,
     "metadata": {},
     "output_type": "execute_result"
    }
   ],
   "source": [
    "def np_solution(x, y):\n",
    "    return np.array_equal(np.sort(x), np.sort(y))\n",
    "    \n",
    "np_solution(x, y)"
   ]
  },
  {
   "cell_type": "code",
   "execution_count": 196,
   "id": "3fdad70f-8902-44d9-a7ec-f7daee1d67ac",
   "metadata": {},
   "outputs": [
    {
     "data": {
      "text/plain": [
       "True"
      ]
     },
     "execution_count": 196,
     "metadata": {},
     "output_type": "execute_result"
    }
   ],
   "source": [
    "def py_solution(x, y):\n",
    "    return sorted(x) == sorted(y)\n",
    "\n",
    "py_solution([1, 2, 2, 4], [4, 2, 1, 2])"
   ]
  },
  {
   "cell_type": "markdown",
   "id": "b9c185c7",
   "metadata": {},
   "source": [
    "* __Задача 3__: Найти максимальный элемент в векторе x среди элементов, перед которыми стоит ноль. \n",
    " Например, для x = np.array([6, 2, 0, 3, 0, 0, 5, 7, 0]) ответ 5."
   ]
  },
  {
   "cell_type": "code",
   "execution_count": 220,
   "id": "b57df008",
   "metadata": {},
   "outputs": [
    {
     "data": {
      "text/plain": [
       "array([6, 0, 6, 2, 5, 2, 2, 7, 4, 4, 2, 6, 0, 0, 0])"
      ]
     },
     "execution_count": 220,
     "metadata": {},
     "output_type": "execute_result"
    }
   ],
   "source": [
    "a = np.random.randint(0, 8, 15)\n",
    "a"
   ]
  },
  {
   "cell_type": "code",
   "execution_count": 221,
   "id": "b60a2df1-6b31-4baa-9904-28c3b40ee12b",
   "metadata": {},
   "outputs": [
    {
     "data": {
      "text/plain": [
       "6"
      ]
     },
     "execution_count": 221,
     "metadata": {},
     "output_type": "execute_result"
    }
   ],
   "source": [
    "def np_solution(arr):\n",
    "    a = arr[:-1]\n",
    "    return np.max(arr[np.add((a==0).nonzero(), 1)])\n",
    "\n",
    "np_solution(a)"
   ]
  },
  {
   "cell_type": "code",
   "execution_count": 226,
   "id": "91cd8e37-1d4c-493b-b7cb-3bdd3cf774b9",
   "metadata": {},
   "outputs": [
    {
     "data": {
      "text/plain": [
       "6"
      ]
     },
     "execution_count": 226,
     "metadata": {},
     "output_type": "execute_result"
    }
   ],
   "source": [
    "def py_solution(lst):\n",
    "    vals = []\n",
    "    for i in range(len(lst)-1):\n",
    "        if lst[i] == 0:\n",
    "            vals.append(lst[i+1])\n",
    "    return max(vals)\n",
    "\n",
    "py_solution([6, 0, 6, 2, 5, 2, 2, 7, 4, 4, 2, 6, 0, 0, 0])"
   ]
  },
  {
   "cell_type": "markdown",
   "id": "480be4ce",
   "metadata": {},
   "source": [
    "* __Задача 4__: Реализовать кодирование длин серий (Run-length encoding). Для некоторого вектора x необходимо вернуть кортеж из двух векторов одинаковой длины. Первый содержит числа, а второй - сколько раз их нужно повторить.  \n",
    " Например, для x = np.array([2, 2, 2, 3, 3, 3, 5]) ответ (np.array([2, 3, 5]), np.array([3, 3, 1]))."
   ]
  },
  {
   "cell_type": "code",
   "execution_count": 227,
   "id": "3c592124",
   "metadata": {},
   "outputs": [
    {
     "data": {
      "text/plain": [
       "array([3, 1, 1, 3, 2, 2, 2, 2, 3, 3, 1, 2, 1, 2, 2])"
      ]
     },
     "execution_count": 227,
     "metadata": {},
     "output_type": "execute_result"
    }
   ],
   "source": [
    "a = np.random.randint(1, 4, 15)\n",
    "a"
   ]
  },
  {
   "cell_type": "code",
   "execution_count": 231,
   "id": "d524f6b0-2e58-4af0-bab9-d39ed7241a3b",
   "metadata": {},
   "outputs": [
    {
     "data": {
      "text/plain": [
       "array([3, 1, 1, 3, 2, 2, 2, 2, 3, 3, 1, 2, 1, 2, 2])"
      ]
     },
     "execution_count": 231,
     "metadata": {},
     "output_type": "execute_result"
    }
   ],
   "source": [
    "def np_solution(arr):\n",
    "    \n",
    "\n",
    "np_solution(a)"
   ]
  },
  {
   "cell_type": "markdown",
   "id": "077532ec",
   "metadata": {},
   "source": [
    "* __Задача 5__: Даны две выборки объектов - X и Y. Вычислить матрицу евклидовых расстояний между объектами. Сравните с функцией scipy.spatial.distance.cdist по скорости работы."
   ]
  },
  {
   "cell_type": "code",
   "execution_count": 28,
   "id": "1e807797",
   "metadata": {},
   "outputs": [],
   "source": [
    "# your code"
   ]
  },
  {
   "cell_type": "markdown",
   "id": "973e8064",
   "metadata": {},
   "source": [
    "_______\n",
    "________"
   ]
  },
  {
   "cell_type": "markdown",
   "id": "1104acb7",
   "metadata": {},
   "source": [
    "* #### __Задача 6__: CrunchieMunchies __*__\n",
    "\n",
    "Вы работаете в отделе маркетинга пищевой компании MyCrunch, которая разрабатывает новый вид вкусных, полезных злаков под названием **CrunchieMunchies**.\n",
    "\n",
    "Вы хотите продемонстрировать потребителям, насколько полезны ваши хлопья по сравнению с другими ведущими брендами, поэтому вы собрали данные о питании нескольких разных конкурентов.\n",
    "\n",
    "Ваша задача - использовать вычисления Numpy для анализа этих данных и доказать, что ваши **СrunchieMunchies** - самый здоровый выбор для потребителей.\n"
   ]
  },
  {
   "cell_type": "code",
   "execution_count": 29,
   "id": "10a77f8d",
   "metadata": {},
   "outputs": [],
   "source": [
    "import numpy as np"
   ]
  },
  {
   "cell_type": "markdown",
   "id": "ab87cb03",
   "metadata": {},
   "source": [
    "1. Просмотрите файл cereal.csv. Этот файл содержит количества калорий для различных марок хлопьев. Загрузите данные из файла и сохраните их как calorie_stats."
   ]
  },
  {
   "cell_type": "code",
   "execution_count": 30,
   "id": "9681ebf2",
   "metadata": {},
   "outputs": [
    {
     "data": {
      "text/plain": [
       "array([ 70., 120.,  70.,  50., 110., 110., 110., 130.,  90.,  90., 120.,\n",
       "       110., 120., 110., 110., 110., 100., 110., 110., 110., 100., 110.,\n",
       "       100., 100., 110., 110., 100., 120., 120., 110., 100., 110., 100.,\n",
       "       110., 120., 120., 110., 110., 110., 140., 110., 100., 110., 100.,\n",
       "       150., 150., 160., 100., 120., 140.,  90., 130., 120., 100.,  50.,\n",
       "        50., 100., 100., 120., 100.,  90., 110., 110.,  80.,  90.,  90.,\n",
       "       110., 110.,  90., 110., 140., 100., 110., 110., 100., 100., 110.])"
      ]
     },
     "execution_count": 30,
     "metadata": {},
     "output_type": "execute_result"
    }
   ],
   "source": [
    "calorie_stats = np.loadtxt(\"./data/cereal.csv\", delimiter=\",\")\n",
    "calorie_stats"
   ]
  },
  {
   "cell_type": "markdown",
   "id": "139cfbd8",
   "metadata": {},
   "source": [
    "2. В одной порции CrunchieMunchies содержится 60 калорий. Насколько выше среднее количество калорий у ваших конкурентов?\n",
    "\n",
    "Сохраните ответ в переменной average_calories и распечатайте переменную в терминале"
   ]
  },
  {
   "cell_type": "code",
   "execution_count": 31,
   "id": "7036d240",
   "metadata": {},
   "outputs": [],
   "source": [
    "# your code"
   ]
  },
  {
   "cell_type": "markdown",
   "id": "b2ddb4cd",
   "metadata": {},
   "source": [
    "3. Корректно ли среднее количество калорий отражает распределение набора данных? Давайте отсортируем данные и посмотрим.\n",
    "\n",
    "Отсортируйте данные и сохраните результат в переменной calorie_stats_sorted. Распечатайте отсортированную информацию"
   ]
  },
  {
   "cell_type": "code",
   "execution_count": 32,
   "id": "46eeb4ed",
   "metadata": {},
   "outputs": [],
   "source": [
    "# your code"
   ]
  },
  {
   "cell_type": "markdown",
   "id": "4dc74116",
   "metadata": {},
   "source": [
    "4. Похоже, что большинство значений выше среднего. Давайте посмотрим, является ли медиана наиболее корректным показателем набора данных.\n",
    "\n",
    "Вычислите медиану набора данных и сохраните свой ответ в median_calories. Выведите медиану, чтобы вы могли видеть, как она сравнивается со средним значением."
   ]
  },
  {
   "cell_type": "code",
   "execution_count": 33,
   "id": "b56627c3",
   "metadata": {},
   "outputs": [],
   "source": [
    "# your code"
   ]
  },
  {
   "cell_type": "markdown",
   "id": "a63ab72f",
   "metadata": {},
   "source": [
    "5. В то время как медиана показывает, что по крайней мере половина наших значений составляет более 100 калорий, было бы более впечатляюще показать, что значительная часть конкурентов имеет более высокое количество калорий, чем CrunchieMunchies.\n",
    "\n",
    "Рассчитайте различные процентили и распечатайте их, пока не найдете наименьший процентиль, превышающий 60 калорий. Сохраните это значение в переменной nth_percentile."
   ]
  },
  {
   "cell_type": "code",
   "execution_count": 34,
   "id": "fe80ce03",
   "metadata": {},
   "outputs": [],
   "source": [
    "# your code"
   ]
  },
  {
   "cell_type": "markdown",
   "id": "a2a3c5aa",
   "metadata": {},
   "source": [
    "6. Хотя процентиль показывает нам, что у большинства конкурентов количество калорий намного выше, это неудобная концепция для использования в маркетинговых материалах.\n",
    "\n",
    "Вместо этого давайте подсчитаем процент хлопьев, в которых содержится более 60 калорий на порцию. Сохраните свой ответ в переменной more_calories и распечатайте его"
   ]
  },
  {
   "cell_type": "code",
   "execution_count": 35,
   "id": "ade0f6ea",
   "metadata": {},
   "outputs": [],
   "source": [
    "# your code"
   ]
  },
  {
   "cell_type": "markdown",
   "id": "1735d65b",
   "metadata": {},
   "source": [
    "7. Это действительно высокий процент. Это будет очень полезно, когда мы будем продвигать CrunchieMunchies. Но один вопрос заключается в том, насколько велики различия в наборе данных? Можем ли мы сделать обобщение, что в большинстве злаков содержится около 100 калорий или разброс еще больше?\n",
    "\n",
    "Рассчитайте величину отклонения, найдя стандартное отклонение, Сохраните свой ответ в calorie_std и распечатайте на терминале. Как мы можем включить эту ценность в наш анализ?"
   ]
  },
  {
   "cell_type": "code",
   "execution_count": 36,
   "id": "85c8df1f",
   "metadata": {},
   "outputs": [],
   "source": [
    "# your code"
   ]
  },
  {
   "cell_type": "markdown",
   "id": "037455c5",
   "metadata": {},
   "source": [
    "8. Напишите короткий абзац, в котором кратко изложите свои выводы и то, как, по вашему мнению, эти данные могут быть использованы в интересах Mycrunch при маркетинге CrunchieMunchies."
   ]
  },
  {
   "cell_type": "code",
   "execution_count": 37,
   "id": "c260fee9",
   "metadata": {},
   "outputs": [],
   "source": [
    "# your code"
   ]
  }
 ],
 "metadata": {
  "kernelspec": {
   "display_name": "Python 3 (ipykernel)",
   "language": "python",
   "name": "python3"
  },
  "language_info": {
   "codemirror_mode": {
    "name": "ipython",
    "version": 3
   },
   "file_extension": ".py",
   "mimetype": "text/x-python",
   "name": "python",
   "nbconvert_exporter": "python",
   "pygments_lexer": "ipython3",
   "version": "3.11.4"
  }
 },
 "nbformat": 4,
 "nbformat_minor": 5
}
